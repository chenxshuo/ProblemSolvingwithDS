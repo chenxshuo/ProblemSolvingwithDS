{
 "cells": [
  {
   "cell_type": "markdown",
   "metadata": {},
   "source": [
    "## 3.8 The Unordered List ADT\n",
    "\n",
    "* List()\n",
    "* add(item)\n",
    "* remove(item)\n",
    "* search(item)\n",
    "* is_empty()\n",
    "* size()\n",
    "* append(item)\n",
    "* index(item)\n",
    "* insert(pos, item)\n",
    "* pop()\n",
    "* pop(pos)"
   ]
  },
  {
   "cell_type": "markdown",
   "metadata": {},
   "source": [
    "## 3.9 Linked List"
   ]
  },
  {
   "cell_type": "markdown",
   "metadata": {},
   "source": [
    "### 3.9.1 The Node Class"
   ]
  },
  {
   "cell_type": "code",
   "execution_count": 2,
   "metadata": {
    "collapsed": true
   },
   "outputs": [],
   "source": [
    "class Node:\n",
    "    def __init__(self, init_data):\n",
    "        self.data = init_data\n",
    "        self.next = None\n",
    "    \n",
    "    def get_data(self):\n",
    "        return self.data\n",
    "    \n",
    "    def get_next(self):\n",
    "        return self.next\n",
    "    \n",
    "    def set_data(self, new_data):\n",
    "        self.data = new_data\n",
    "    \n",
    "    def set_next(self, new_next):\n",
    "        self.next = new_next\n",
    "        "
   ]
  },
  {
   "cell_type": "code",
   "execution_count": 3,
   "metadata": {},
   "outputs": [
    {
     "data": {
      "text/plain": [
       "93"
      ]
     },
     "execution_count": 3,
     "metadata": {},
     "output_type": "execute_result"
    }
   ],
   "source": [
    "temp = Node(93)\n",
    "temp.get_data()"
   ]
  },
  {
   "cell_type": "markdown",
   "metadata": {},
   "source": [
    "### 3.9.2 The Unordered List Class"
   ]
  },
  {
   "cell_type": "code",
   "execution_count": 61,
   "metadata": {
    "collapsed": true
   },
   "outputs": [],
   "source": [
    "class UnorderedList:\n",
    "    def __init__(self):\n",
    "        self.head = None\n",
    "        self.tail = None\n",
    "        \n",
    "    def is_empty(self):\n",
    "        return self.head == None\n",
    "    \n",
    "    def add(self, item):\n",
    "        temp = Node(item)\n",
    "        # Wrong : temp.next = self.head\n",
    "        temp.set_next(self.head) \n",
    "        self.head = temp\n",
    "        \n",
    "        current = self.head\n",
    "        self.tail = self.head\n",
    "        while current.get_next() != None:\n",
    "            self.tail = current.get_next()\n",
    "            current = current.get_next()\n",
    "    \n",
    "    def size(self):\n",
    "        current = self.head\n",
    "        count = 0\n",
    "        while current != None:\n",
    "            count += 1\n",
    "            current = current.get_next()\n",
    "        return count\n",
    "    \n",
    "    def search(self, item):\n",
    "        current = self.head\n",
    "        found = False\n",
    "        while current != None and not found:\n",
    "            if current.get_data() == item:\n",
    "                return True\n",
    "            else:\n",
    "                current = current.get_next() # Wrong : current = current.next\n",
    "        return found\n",
    "    \n",
    "    def remove(self, item):\n",
    "        current = self.head\n",
    "        previous = None\n",
    "        found = False\n",
    "        while not found :\n",
    "            if current.get_data() == item:\n",
    "                found = True\n",
    "            else:\n",
    "                previous = current\n",
    "                current = current.get_next()\n",
    "            \n",
    "        if previous == None:\n",
    "            self.head = current.get_next()\n",
    "        else:\n",
    "            previous.set_next(current.get_next())\n",
    "    \n",
    "    def __str__(self):\n",
    "        result = \"--- \\nLinked List Item : \\n\"\n",
    "        current = self.head\n",
    "        while current != None:\n",
    "            result += str(current.get_data()) + \" \"\n",
    "            current = current.get_next()\n",
    "        return result+\"\\n---\"\n",
    "    \n",
    "    '''\n",
    "    # O(n) append\n",
    "    def append(self, item):\n",
    "        last = Node(item)\n",
    "        current = self.head\n",
    "        while current.get_next() != None:\n",
    "            current = current.get_next()\n",
    "        current.set_next(last)\n",
    "        last.set_next(None)\n",
    "    '''\n",
    "    \n",
    "    #O(1) append use tail\n",
    "    def append(self, item):\n",
    "        temp = Node(item)\n",
    "        self.tail.set_next(temp)\n",
    "        self.tail = temp\n",
    "    \n",
    "    def index(self, item):\n",
    "        current = self.head\n",
    "        found = False\n",
    "        index = 0\n",
    "        while current != None and not found:\n",
    "            if current.get_data() == item:\n",
    "                found = True\n",
    "                return index\n",
    "            current = current.get_next()\n",
    "            index += 1\n",
    "        if found == False:\n",
    "            return -1"
   ]
  },
  {
   "cell_type": "code",
   "execution_count": 63,
   "metadata": {},
   "outputs": [
    {
     "name": "stdout",
     "output_type": "stream",
     "text": [
      "--- \n",
      "Linked List Item : \n",
      "hello True 10 \n",
      "---\n",
      "3\n",
      "--- \n",
      "Linked List Item : \n",
      "hello 10 \n",
      "---\n",
      "--- \n",
      "Linked List Item : \n",
      "9 8 7 6 5 4 3 2 1 0 hello 10 \n",
      "---\n",
      "True\n",
      "10\n",
      "-1\n"
     ]
    }
   ],
   "source": [
    "linked_list = UnorderedList()\n",
    "linked_list.add(10)\n",
    "linked_list.add(True)\n",
    "linked_list.add(\"hello\")\n",
    "print(linked_list)\n",
    "print(linked_list.size())\n",
    "linked_list.remove(True)\n",
    "print(linked_list)\n",
    "for i in range(10):\n",
    "    linked_list.add(i)\n",
    "print(linked_list)\n",
    "print(linked_list.search(\"hello\"))\n",
    "print(linked_list.index(\"hello\"))\n",
    "print(linked_list.index(\"a\"))"
   ]
  },
  {
   "cell_type": "code",
   "execution_count": 60,
   "metadata": {},
   "outputs": [
    {
     "name": "stdout",
     "output_type": "stream",
     "text": [
      "--- \n",
      "Linked List Item : \n",
      "9 8 7 6 5 4 3 2 1 0 hello 10 append \n",
      "---\n",
      "--- \n",
      "Linked List Item : \n",
      "9 8 7 6 5 4 3 2 1 0 hello 10 append append \n",
      "---\n"
     ]
    }
   ],
   "source": [
    "linked_list.append(\"append\")\n",
    "print(linked_list)\n",
    "linked_list.append(\"append\")\n",
    "print(linked_list)"
   ]
  },
  {
   "cell_type": "markdown",
   "metadata": {},
   "source": [
    "## 3.10 Ordered List\n",
    "* OrderedList()\n",
    "* add(item)\n",
    "* remove(item)\n",
    "* search(item)\n",
    "* is_empty()\n",
    "* size()\n",
    "* index()\n",
    "* pop()\n",
    "* pop(pos)"
   ]
  },
  {
   "cell_type": "code",
   "execution_count": 64,
   "metadata": {
    "collapsed": true
   },
   "outputs": [],
   "source": [
    "class OrderedList:\n",
    "    def __init__(self):\n",
    "        self.head = None\n",
    "    def search(self,item):\n",
    "        current = self.head\n",
    "        found = False\n",
    "        stop = False\n",
    "        while current != None and not found and not stop:\n",
    "            if current.get_data() == item:\n",
    "                found = True\n",
    "            else:\n",
    "                if current.get_data() > item:\n",
    "                    stop = True\n",
    "                else:\n",
    "                    current = current.get_next()\n",
    "        \n",
    "        return found\n",
    "    \n",
    "    def add(self, item):\n",
    "        current = self.head\n",
    "        previous = None\n",
    "        stop = False\n",
    "        while current != None and not stop:\n",
    "            if current.get_data() > item:\n",
    "                stop = True\n",
    "            else:\n",
    "                previous = current\n",
    "                current = current.get_next()\n",
    "        temp = Node(item)\n",
    "        if previous == None:\n",
    "            temp.set_next(self.head)\n",
    "            self.head = temp\n",
    "        else:\n",
    "            temp.set_next(current)\n",
    "            previous.set_next(temp)"
   ]
  },
  {
   "cell_type": "code",
   "execution_count": null,
   "metadata": {
    "collapsed": true
   },
   "outputs": [],
   "source": []
  }
 ],
 "metadata": {
  "kernelspec": {
   "display_name": "Python 3",
   "language": "python",
   "name": "python3"
  },
  "language_info": {
   "codemirror_mode": {
    "name": "ipython",
    "version": 3
   },
   "file_extension": ".py",
   "mimetype": "text/x-python",
   "name": "python",
   "nbconvert_exporter": "python",
   "pygments_lexer": "ipython3",
   "version": "3.6.3"
  }
 },
 "nbformat": 4,
 "nbformat_minor": 2
}

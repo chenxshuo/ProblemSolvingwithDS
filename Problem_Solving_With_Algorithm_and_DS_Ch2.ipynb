{
 "cells": [
  {
   "cell_type": "markdown",
   "metadata": {},
   "source": [
    "# Ch2. Algorithm Analysis"
   ]
  },
  {
   "cell_type": "code",
   "execution_count": 5,
   "metadata": {},
   "outputs": [
    {
     "name": "stdout",
     "output_type": "stream",
     "text": [
      "Sum is 500000500000 . Costs  0.0601752 secends\n",
      "Sum is 500000500000 . Costs  0.0443401 secends\n",
      "Sum is 500000500000 . Costs  0.0731413 secends\n",
      "Sum is 500000500000 . Costs  0.0578234 secends\n",
      "Sum is 500000500000 . Costs  0.0591819 secends\n"
     ]
    }
   ],
   "source": [
    "import time\n",
    "def sum_of_n(n):\n",
    "    start = time.time()\n",
    "    \n",
    "    the_sum = 0\n",
    "    for i in range(1,n+1):\n",
    "        the_sum += i\n",
    "    end = time.time()\n",
    "    return the_sum, end-start\n",
    "\n",
    "for i in range(5):\n",
    "    print(\"Sum is %d . Costs %10.7f secends\"%sum_of_n(1000000))"
   ]
  },
  {
   "cell_type": "code",
   "execution_count": 6,
   "metadata": {},
   "outputs": [
    {
     "name": "stdout",
     "output_type": "stream",
     "text": [
      "Sum is 50000000005000003584 . Costs 0.00000000000000000000 secends\n",
      "Sum is 50000000005000003584 . Costs 0.00000000000000000000 secends\n",
      "Sum is 50000000005000003584 . Costs 0.00000000000000000000 secends\n",
      "Sum is 50000000005000003584 . Costs 0.00000000000000000000 secends\n",
      "Sum is 50000000005000003584 . Costs 0.00000000000000000000 secends\n"
     ]
    }
   ],
   "source": [
    "def sum_of_n_3(n):\n",
    "    start = time.time()\n",
    "    sum = (n*(n+1))/2\n",
    "    end = time.time()\n",
    "    return sum, end-start\n",
    "\n",
    "for i in range(5):\n",
    "    print(\"Sum is %d . Costs %20.20f secends\"%sum_of_n_3(10000000000))"
   ]
  },
  {
   "cell_type": "markdown",
   "metadata": {},
   "source": [
    "Self-Check find the minimum"
   ]
  },
  {
   "cell_type": "code",
   "execution_count": 7,
   "metadata": {},
   "outputs": [
    {
     "name": "stdout",
     "output_type": "stream",
     "text": [
      "O(n^2) method return 1, Costs 0.0461094379 time\n",
      "O(n) method return 1, Costs 0.0000000000 time\n",
      "\n",
      "O(n^2) method return 1, Costs 0.0421440601 time\n",
      "O(n) method return 1, Costs 0.0000000000 time\n",
      "\n",
      "O(n^2) method return 1, Costs 0.0292012691 time\n",
      "O(n) method return 1, Costs 0.0000000000 time\n",
      "\n",
      "O(n^2) method return 1, Costs 0.0504486561 time\n",
      "O(n) method return 1, Costs 0.0000000000 time\n",
      "\n",
      "O(n^2) method return 1, Costs 0.0393834114 time\n",
      "O(n) method return 1, Costs 0.0000000000 time\n",
      "\n",
      "O(n^2) method return 1, Costs 0.0441188812 time\n",
      "O(n) method return 1, Costs 0.0000000000 time\n",
      "\n",
      "O(n^2) method return 1, Costs 0.0411086082 time\n",
      "O(n) method return 1, Costs 0.0000000000 time\n",
      "\n",
      "O(n^2) method return 1, Costs 0.0423107147 time\n",
      "O(n) method return 1, Costs 0.0000000000 time\n",
      "\n",
      "O(n^2) method return 1, Costs 0.0398151875 time\n",
      "O(n) method return 1, Costs 0.0010216236 time\n",
      "\n",
      "O(n^2) method return 1, Costs 0.0344188213 time\n",
      "O(n) method return 1, Costs 0.0000000000 time\n",
      "\n"
     ]
    }
   ],
   "source": [
    "#O(n^2)\n",
    "def min_n2(list):\n",
    "    min = 0\n",
    "    start = time.time()\n",
    "    for i in list:\n",
    "        for j in list :\n",
    "            if i > j:\n",
    "                min = j\n",
    "    end = time.time()\n",
    "    return min, end-start\n",
    "\n",
    "#O(n)\n",
    "def min_n(list):\n",
    "    start_n = time.time()\n",
    "    min_n = list[0]\n",
    "    for item in list:\n",
    "        if  min_n > item:\n",
    "            min_n = item\n",
    "    end_n = time.time()\n",
    "    return min_n, end_n-start_n\n",
    "\n",
    "test = range(1000,0,-1)\n",
    "for i in range(0,10):\n",
    "    print(\"O(n^2) method return %d, Costs %10.10f time\"%min_n2(test))\n",
    "    print(\"O(n) method return %d, Costs %10.10f time\"%min_n(test))\n",
    "    print()"
   ]
  },
  {
   "cell_type": "markdown",
   "metadata": {},
   "source": [
    "### 2.2.2 An anagram Detection Example"
   ]
  },
  {
   "cell_type": "markdown",
   "metadata": {},
   "source": [
    "#### Solution 1: check off O(n^2)"
   ]
  },
  {
   "cell_type": "code",
   "execution_count": 8,
   "metadata": {
    "collapsed": true
   },
   "outputs": [],
   "source": [
    "def anagram_solution1(s1,s2):\n",
    "    start = time.time()\n",
    "    result = False\n",
    "    s1_list = list(s1)\n",
    "    s2_list = list(s2)\n",
    "    for s1_item in s1_list:\n",
    "        for s2_item in s2_list:\n",
    "            if s1_item == s2_item:\n",
    "                result = True\n",
    "    end = time.time()\n",
    "    return result"
   ]
  },
  {
   "cell_type": "code",
   "execution_count": 9,
   "metadata": {},
   "outputs": [
    {
     "data": {
      "text/plain": [
       "True"
      ]
     },
     "execution_count": 9,
     "metadata": {},
     "output_type": "execute_result"
    }
   ],
   "source": [
    "anagram_solution1(\"hello\",\"lleoh\")"
   ]
  },
  {
   "cell_type": "markdown",
   "metadata": {},
   "source": [
    "#### Solution 2 : Sort and Compare O(n)"
   ]
  },
  {
   "cell_type": "code",
   "execution_count": 10,
   "metadata": {
    "collapsed": true
   },
   "outputs": [],
   "source": [
    "def anagram_solution2(s1,s2):\n",
    "    s1_list2 = list(s1)\n",
    "    s2_list2 = list(s2)\n",
    "    s1_list2.sort()\n",
    "    s2_list2.sort()\n",
    "    result = True\n",
    "    for i in range(len(s1_list2)):\n",
    "        if s1_list2[i] != s2_list2[i]:\n",
    "            result = False\n",
    "    return result"
   ]
  },
  {
   "cell_type": "code",
   "execution_count": 11,
   "metadata": {},
   "outputs": [
    {
     "data": {
      "text/plain": [
       "True"
      ]
     },
     "execution_count": 11,
     "metadata": {},
     "output_type": "execute_result"
    }
   ],
   "source": [
    "anagram_solution2(\"hello\",\"hlleo\")"
   ]
  },
  {
   "cell_type": "markdown",
   "metadata": {},
   "source": [
    "#### Solution 3: Count and Compare O(n)"
   ]
  },
  {
   "cell_type": "code",
   "execution_count": 12,
   "metadata": {
    "collapsed": true
   },
   "outputs": [],
   "source": [
    "def anagram_solution3(s1,s2):\n",
    "    s1_list3 = list(s1)\n",
    "    s2_list3 = list(s2)\n",
    "    s1_time = [0]*26\n",
    "    s2_time = [0]*26\n",
    "    result = True\n",
    "    for i in range(len(s1_list3)):\n",
    "        s1_time[ord(s1_list3[i])-ord('a')] += 1\n",
    "        s2_time[ord(s2_list3[i])-ord('a')] += 1\n",
    "    for i in range(len(s1_time)):\n",
    "        if s1_time[i] != s2_time[i]:\n",
    "            result = False\n",
    "        \n",
    "    return result"
   ]
  },
  {
   "cell_type": "code",
   "execution_count": 13,
   "metadata": {},
   "outputs": [
    {
     "data": {
      "text/plain": [
       "True"
      ]
     },
     "execution_count": 13,
     "metadata": {},
     "output_type": "execute_result"
    }
   ],
   "source": [
    "anagram_solution3(\"hello\",\"hlleo\")"
   ]
  },
  {
   "cell_type": "markdown",
   "metadata": {},
   "source": [
    "## 2.3 Performance of Python Data Structure"
   ]
  },
  {
   "cell_type": "markdown",
   "metadata": {},
   "source": [
    "### 2.3.1 Lists"
   ]
  },
  {
   "cell_type": "code",
   "execution_count": 14,
   "metadata": {
    "collapsed": true
   },
   "outputs": [],
   "source": [
    "#Different ways to generate a list of n number starting with 0\n",
    "def test1():\n",
    "    l = []\n",
    "    for i in range(1000):\n",
    "        l = l + [i]\n",
    "    return 0\n",
    "\n",
    "def test2():\n",
    "    l=[]\n",
    "    for i in range(1000):\n",
    "        l.append(i)\n",
    "    return 0\n",
    "\n",
    "def test3():\n",
    "    l = [i for i in range(1000)]\n",
    "    return 0\n",
    "\n",
    "def test4():\n",
    "    l = list(range(1000))\n",
    "    return 0"
   ]
  },
  {
   "cell_type": "code",
   "execution_count": 15,
   "metadata": {
    "collapsed": true
   },
   "outputs": [],
   "source": [
    "import timeit\n",
    "from timeit import Timer\n",
    "#Use timeit to calculate the time of the method in a seperate environment\n",
    "#create a Timer object and call the timeit function with python statement\n",
    "#number indicates the times the method run"
   ]
  },
  {
   "cell_type": "code",
   "execution_count": 16,
   "metadata": {},
   "outputs": [
    {
     "name": "stdout",
     "output_type": "stream",
     "text": [
      "concat \t 1.3194954135575951 milliseconds\n",
      "Append \t 0.07442841136514922 milliseconds\n",
      "Comprehension \t 0.03193154136375931 milliseconds\n",
      "List range \t 0.012776883210275258 milliseconds\n"
     ]
    }
   ],
   "source": [
    "t1 = Timer(\"test1()\", \"from __main__ import test1\")\n",
    "print(\"concat \\t\",t1.timeit(number=1000), \"milliseconds\")\n",
    "\n",
    "t2 = Timer(\"test2() \\t\", \"from __main__ import test2\")\n",
    "print(\"Append \\t\",t2.timeit(number=1000), \"milliseconds\")\n",
    "\n",
    "t3 = Timer(\"test3()\", \"from __main__ import test3\")\n",
    "print(\"Comprehension \\t\",t3.timeit(number=1000), \"milliseconds\")\n",
    "\n",
    "t4 = Timer(\"test4()\", \"from __main__ import test4\")\n",
    "print(\"List range \\t\",t4.timeit(number=1000), \"milliseconds\")"
   ]
  },
  {
   "cell_type": "markdown",
   "metadata": {},
   "source": [
    "The difference between pop() and pop(n)"
   ]
  },
  {
   "cell_type": "code",
   "execution_count": 19,
   "metadata": {},
   "outputs": [
    {
     "name": "stdout",
     "output_type": "stream",
     "text": [
      "pop zero costs  1.0962097\n",
      "pop costs  0.0000751\n"
     ]
    }
   ],
   "source": [
    "pop_zero = Timer(\"x.pop(0)\", \"from __main__ import x\")\n",
    "pop_end = Timer(\"x.pop()\",\"from __main__ import x\")\n",
    "x = list(range(2000000))\n",
    "print(\"pop zero costs %10.7f\"%pop_zero.timeit(number = 1000))\n",
    "print(\"pop costs %10.7f\"%pop_end.timeit(number = 1000))"
   ]
  },
  {
   "cell_type": "markdown",
   "metadata": {},
   "source": [
    "### 2.3.2 Dictionaries"
   ]
  },
  {
   "cell_type": "code",
   "execution_count": 20,
   "metadata": {
    "collapsed": true
   },
   "outputs": [],
   "source": [
    "import timeit\n",
    "import random"
   ]
  },
  {
   "cell_type": "code",
   "execution_count": 23,
   "metadata": {},
   "outputs": [
    {
     "name": "stdout",
     "output_type": "stream",
     "text": [
      "10000, List :      0.071, Dict :      0.001\n",
      "30000, List :      0.168, Dict :      0.001\n",
      "50000, List :      0.289, Dict :      0.001\n",
      "70000, List :      0.377, Dict :      0.001\n",
      "90000, List :      0.503, Dict :      0.001\n"
     ]
    }
   ],
   "source": [
    "for i in range(10000,100001,20000):\n",
    "    t = timeit.Timer(\"random.randrange(%d) in x\"%i, \"from __main__ import random,x\")\n",
    "    x = list(range(i))\n",
    "    list_time = t.timeit(number=1000)\n",
    "    x = {j:None for j in range(i)}\n",
    "    d_time = t.timeit(number=1000)\n",
    "    print(\"%d, List : %10.3f, Dict : %10.3f\"%(i, list_time, d_time))"
   ]
  },
  {
   "cell_type": "markdown",
   "metadata": {},
   "source": [
    "## 2.7 Programming Exercise"
   ]
  },
  {
   "cell_type": "markdown",
   "metadata": {},
   "source": [
    "#### Verify that the list index operator is O(1)"
   ]
  },
  {
   "cell_type": "code",
   "execution_count": 30,
   "metadata": {},
   "outputs": [
    {
     "name": "stdout",
     "output_type": "stream",
     "text": [
      "100 num costs    0.00082\n",
      "600 num costs    0.00119\n",
      "1100 num costs    0.00116\n",
      "1600 num costs    0.00123\n",
      "2100 num costs    0.00119\n",
      "2600 num costs    0.00119\n",
      "3100 num costs    0.00117\n",
      "3600 num costs    0.00122\n",
      "4100 num costs    0.00115\n",
      "4600 num costs    0.00115\n",
      "5100 num costs    0.00120\n",
      "5600 num costs    0.00182\n",
      "6100 num costs    0.00121\n",
      "6600 num costs    0.00122\n",
      "7100 num costs    0.00110\n",
      "7600 num costs    0.00111\n",
      "8100 num costs    0.00110\n",
      "8600 num costs    0.00138\n",
      "9100 num costs    0.00166\n",
      "9600 num costs    0.00151\n"
     ]
    }
   ],
   "source": [
    "t = Timer(\"l[len(l)-1]\",\"from __main__ import l\")\n",
    "for i in range(100,10000,500):\n",
    "    l = list(range(i))\n",
    "    \n",
    "    print(\"%d num costs %10.5f\"%(i,t.timeit(number=10000)))"
   ]
  },
  {
   "cell_type": "markdown",
   "metadata": {},
   "source": [
    "#### Compare the performance of the del operator on lists and dict"
   ]
  },
  {
   "cell_type": "code",
   "execution_count": 33,
   "metadata": {},
   "outputs": [
    {
     "name": "stdout",
     "output_type": "stream",
     "text": [
      "List  0.0000311 \t Dict :  0.0000160\n",
      "List  0.0000156 \t Dict :  0.0000156\n",
      "List  0.0000182 \t Dict :  0.0000164\n",
      "List  0.0000293 \t Dict :  0.0000196\n",
      "List  0.0000169 \t Dict :  0.0000191\n",
      "List  0.0000169 \t Dict :  0.0000200\n",
      "List  0.0000196 \t Dict :  0.0000196\n",
      "List  0.0000160 \t Dict :  0.0000182\n",
      "List  0.0000169 \t Dict :  0.0000222\n",
      "List  0.0000173 \t Dict :  0.0000209\n",
      "List  0.0000182 \t Dict :  0.0000187\n",
      "List  0.0000182 \t Dict :  0.0000191\n",
      "List  0.0000173 \t Dict :  0.0000196\n",
      "List  0.0000178 \t Dict :  0.0000182\n",
      "List  0.0000156 \t Dict :  0.0000182\n",
      "List  0.0000164 \t Dict :  0.0000173\n",
      "List  0.0000169 \t Dict :  0.0000213\n",
      "List  0.0000187 \t Dict :  0.0000187\n"
     ]
    }
   ],
   "source": [
    "t = Timer(\"del x[len(x)-1]\", \"from __main__ import x\")\n",
    "for i in range(10000,100000,5000):\n",
    "    x = list(range(i))\n",
    "    list_time = t.timeit(number=100)\n",
    "    x = {j:None for j in range(i)}\n",
    "    d_time = t.timeit(number=100)\n",
    "    print(\"List %10.7f \\t Dict : %10.7f\"%(list_time, d_time))"
   ]
  },
  {
   "cell_type": "markdown",
   "metadata": {},
   "source": [
    "#### Write a Linear Time Algorithm to find the kth smallest number in the list "
   ]
  },
  {
   "cell_type": "code",
   "execution_count": null,
   "metadata": {
    "collapsed": true
   },
   "outputs": [],
   "source": []
  }
 ],
 "metadata": {
  "kernelspec": {
   "display_name": "Python 3",
   "language": "python",
   "name": "python3"
  },
  "language_info": {
   "codemirror_mode": {
    "name": "ipython",
    "version": 3
   },
   "file_extension": ".py",
   "mimetype": "text/x-python",
   "name": "python",
   "nbconvert_exporter": "python",
   "pygments_lexer": "ipython3",
   "version": "3.6.3"
  }
 },
 "nbformat": 4,
 "nbformat_minor": 2
}

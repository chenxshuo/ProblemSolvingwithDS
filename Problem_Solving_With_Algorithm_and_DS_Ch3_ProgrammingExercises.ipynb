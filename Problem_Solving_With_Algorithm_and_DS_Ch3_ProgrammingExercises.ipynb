{
 "cells": [
  {
   "cell_type": "markdown",
   "metadata": {},
   "source": [
    "## 3.14 Programming Exercises"
   ]
  },
  {
   "cell_type": "markdown",
   "metadata": {},
   "source": [
    "#### 1. Implement the Queue ADT , using list such that the rear of the queue is at the end of the list"
   ]
  },
  {
   "cell_type": "code",
   "execution_count": 13,
   "metadata": {
    "collapsed": true
   },
   "outputs": [],
   "source": [
    "class Queue_1:\n",
    "    def __init__(self):\n",
    "        self.items = []\n",
    "    \n",
    "    def enqueue(self,item):\n",
    "        self.items.append(item)\n",
    "    \n",
    "    def dequeue(self):\n",
    "        '''\n",
    "        # Wrong Code: \n",
    "        result = self.items[0]\n",
    "        for i in range(len(self.items)-2):\n",
    "            self.items[i] = self.items[i+1]\n",
    "        self.items[len(self.items)-1] = None\n",
    "        return result\n",
    "        '''\n",
    "        # Just Use pop\n",
    "        return self.items.pop(0)\n",
    "        \n",
    "    \n",
    "    def size(self):\n",
    "        return len(self.items)\n",
    "    \n",
    "    def __str__(self):\n",
    "        result = \"Items in Queue.Front to Rear : \\n\"\n",
    "        for item in self.items:\n",
    "            result += str(item)+\" \"\n",
    "        return result"
   ]
  },
  {
   "cell_type": "code",
   "execution_count": 14,
   "metadata": {},
   "outputs": [
    {
     "name": "stdout",
     "output_type": "stream",
     "text": [
      "Items in Queue.Front to Rear : \n",
      "0 1 2 3 4 \n",
      "0\n",
      "Items in Queue.Front to Rear : \n",
      "2 3 4 rear \n"
     ]
    }
   ],
   "source": [
    "q = Queue_1()\n",
    "for i in range(5):\n",
    "    q.enqueue(i)\n",
    "print(q)\n",
    "print(q.dequeue())\n",
    "q.enqueue(\"rear\")\n",
    "q.dequeue()\n",
    "print(q)"
   ]
  },
  {
   "cell_type": "markdown",
   "metadata": {},
   "source": [
    "#### 2.  It is possible to implement a queue such that both enqueue and dequeue have O(1) performance on average. In this case it means that most of the time enqueue and dequeue will be O(1) except in one particular circumstance where dequeue will be O(n)."
   ]
  },
  {
   "cell_type": "code",
   "execution_count": 26,
   "metadata": {
    "collapsed": true
   },
   "outputs": [],
   "source": [
    "class QueueNode:\n",
    "    def __init__(self,init_data):\n",
    "        self.data = init_data\n",
    "        self.next = None\n",
    "    \n",
    "    def set_data(self,item):\n",
    "        self.data = item\n",
    "    \n",
    "    def get_data(self):\n",
    "        return self.data\n",
    "    \n",
    "    def set_next(self,new_node):\n",
    "        self.next = new_node\n",
    "    \n",
    "    def get_next(self):\n",
    "        return self.next\n",
    "    \n",
    "\n",
    "class Queue_2:\n",
    "    def __init__(self):\n",
    "        self.head = None\n",
    "        self.tail = None\n",
    "        self.count = 0\n",
    "    \n",
    "    def enqueue(self,item):\n",
    "        temp = QueueNode(item)\n",
    "        if self.tail == None and self.head == None:\n",
    "            self.head = temp\n",
    "            self.tail = temp\n",
    "        else:\n",
    "            self.tail.set_next(temp)\n",
    "            self.tail = temp\n",
    "        self.count += 1\n",
    "    \n",
    "    def dequeue(self):\n",
    "        result = self.head.get_data()\n",
    "        self.head = self.head.get_next()\n",
    "        self.count -= 1\n",
    "        return result\n",
    "    \n",
    "    def size(self):\n",
    "        return self.count\n",
    "    \n",
    "    def __str__(self):\n",
    "        result = \"---\\nItem in Queue. From Front to Tail: \\n\"\n",
    "        current = self.head\n",
    "        while current != None:\n",
    "            result += str(current.get_data()) + \" \"\n",
    "            current = current.get_next()\n",
    "        return result+\"\\n---\""
   ]
  },
  {
   "cell_type": "code",
   "execution_count": 27,
   "metadata": {
    "collapsed": true
   },
   "outputs": [],
   "source": [
    "q = Queue_2()"
   ]
  },
  {
   "cell_type": "code",
   "execution_count": 28,
   "metadata": {},
   "outputs": [
    {
     "name": "stdout",
     "output_type": "stream",
     "text": [
      "---\n",
      "Item in Queue. From Front to Tail: \n",
      "0 1 2 3 4 \n",
      "---\n"
     ]
    }
   ],
   "source": [
    "for i in range(5):\n",
    "    q.enqueue(i)\n",
    "print(q)\n"
   ]
  },
  {
   "cell_type": "code",
   "execution_count": 29,
   "metadata": {},
   "outputs": [
    {
     "data": {
      "text/plain": [
       "0"
      ]
     },
     "execution_count": 29,
     "metadata": {},
     "output_type": "execute_result"
    }
   ],
   "source": [
    "q.dequeue()"
   ]
  },
  {
   "cell_type": "markdown",
   "metadata": {},
   "source": [
    "Compare two types Queue"
   ]
  },
  {
   "cell_type": "code",
   "execution_count": 30,
   "metadata": {
    "collapsed": true
   },
   "outputs": [],
   "source": [
    "from timeit import Timer"
   ]
  },
  {
   "cell_type": "code",
   "execution_count": 40,
   "metadata": {},
   "outputs": [
    {
     "name": "stdout",
     "output_type": "stream",
     "text": [
      "Enqueue O(1) :  0.2712634\n",
      "Enqueue O(1) :  0.7825517\n",
      "Dequeue O(n) : 161.1645906 You can tell this is truly solw\n",
      "Dequeue O(1) :  0.6987624\n"
     ]
    }
   ],
   "source": [
    "q1 = Queue_1()\n",
    "q2 = Queue_2()\n",
    "def test_enqueue_1():\n",
    "    for i in range(1000):\n",
    "        q1.enqueue(i)\n",
    "def test_enqueue_2():\n",
    "    for i in range(1000):\n",
    "        q2.enqueue(i)\n",
    "\n",
    "def test_dequeue_1():\n",
    "    for i in range(1000):\n",
    "        q1.dequeue()\n",
    "\n",
    "def test_dequeue_2():\n",
    "    for i in range(1000):\n",
    "        q2.dequeue()\n",
    "        \n",
    "t1 = Timer(\"test_enqueue_1()\",\"from __main__ import test_enqueue_1\")\n",
    "print(\"Enqueue O(1) : %10.7f\"%(t1.timeit(number=1000)))\n",
    "\n",
    "t2 = Timer(\"test_enqueue_2()\",\"from __main__ import test_enqueue_2\")\n",
    "print(\"Enqueue O(1) : %10.7f\"%(t2.timeit(number=1000)))\n",
    "\n",
    "t3 = Timer(\"test_dequeue_1()\",\"from __main__ import test_dequeue_1\")\n",
    "print(\"Dequeue O(n) : %10.7f\"%(t3.timeit(number=1000)),\"You can tell this is truly solw\")\n",
    "\n",
    "t4 = Timer(\"test_dequeue_2()\",\"from __main__ import test_dequeue_2\")\n",
    "print(\"Dequeue O(1) : %10.7f\"%(t4.timeit(number=1000)))"
   ]
  },
  {
   "cell_type": "code",
   "execution_count": null,
   "metadata": {
    "collapsed": true
   },
   "outputs": [],
   "source": []
  },
  {
   "cell_type": "markdown",
   "metadata": {},
   "source": [
    "#### 4. Modify the Hot Potato simulation to allow for a randomly chosen counting value so that each pass is not predictable from the previous one."
   ]
  },
  {
   "cell_type": "code",
   "execution_count": 47,
   "metadata": {
    "collapsed": true
   },
   "outputs": [],
   "source": [
    "import random\n",
    "def hot_potato(name_list):\n",
    "    sim_queue = Queue_2()\n",
    "    for name in name_list:\n",
    "        sim_queue.enqueue(name)\n",
    "    \n",
    "    while sim_queue.size() > 1:\n",
    "        num = random.randrange(100)\n",
    "        for i in range(1,num):\n",
    "            sim_queue.enqueue(sim_queue.dequeue())\n",
    "        sim_queue.dequeue()\n",
    "        \n",
    "    return sim_queue.dequeue()\n"
   ]
  },
  {
   "cell_type": "code",
   "execution_count": 51,
   "metadata": {},
   "outputs": [
    {
     "name": "stdout",
     "output_type": "stream",
     "text": [
      "David\n"
     ]
    }
   ],
   "source": [
    "name_list = [\"Bill\",\"David\",\"Tom\",\"Alice\",\"Jane\"]\n",
    "print(hot_potato(name_list))"
   ]
  },
  {
   "cell_type": "markdown",
   "metadata": {},
   "source": [
    "####  5. Implement a stack using linked lists and Compare it with the list stack\n",
    "* push()\n",
    "* pop()\n",
    "* peek()\n",
    "* size()\n",
    "* is_empty()"
   ]
  },
  {
   "cell_type": "code",
   "execution_count": 74,
   "metadata": {
    "collapsed": true
   },
   "outputs": [],
   "source": [
    "class Stack_list:\n",
    "    def __init__(self):\n",
    "        self.items = []\n",
    "    \n",
    "    def is_empty(self):\n",
    "        return self.items == []\n",
    "    \n",
    "    def push(self, item):\n",
    "        self.items.append(item)\n",
    "    \n",
    "    def pop(self):\n",
    "        return self.items.pop()\n",
    "    \n",
    "    def peek(self):\n",
    "        return self.items[len(self.items)-1]\n",
    "    \n",
    "    def size(self):\n",
    "        return len(self.items)\n",
    "    \n",
    "    def __str__(self):\n",
    "        result = \"Stack End to Top : \\n\"\n",
    "        for item in self.items:\n",
    "            result += str(item) + \" \"\n",
    "        return result\n",
    "\n",
    "class stack_node:\n",
    "    def __init__(self,init_data):\n",
    "        self.data = init_data\n",
    "        self.next = None\n",
    "    \n",
    "    def get_data(self):\n",
    "        return self.data\n",
    "    \n",
    "    def set_next(self,item):\n",
    "        self.next = item\n",
    "    \n",
    "    def get_next(self):\n",
    "        return self.next\n",
    "\n",
    "class Stack_linked():\n",
    "    def __init__(self):\n",
    "        self.top = None\n",
    "        self.length = 0\n",
    "    \n",
    "    def is_empty(self):\n",
    "        return self.top == None\n",
    "    \n",
    "    def push(self,item):\n",
    "        self.length += 1\n",
    "        temp = stack_node(item)\n",
    "        if self.top == None:\n",
    "            self.top = temp\n",
    "        else:\n",
    "            temp.set_next(self.top )\n",
    "            self.top = temp\n",
    "    \n",
    "    def pop(self):\n",
    "        self.length -= 1\n",
    "        result = self.top.get_data()\n",
    "        self.top = self.top.get_next()\n",
    "        return result\n",
    "    \n",
    "    def peek(self):\n",
    "        result = self.top.get_data()\n",
    "        return result\n",
    "    \n",
    "    def size(self):\n",
    "        return self.length\n",
    "    \n",
    "    def __str__(self):\n",
    "        result = \"---\\nLinked Stack Top to End : \\n\"\n",
    "        current = self.top\n",
    "        while current != None:\n",
    "            result += str(current.get_data())+\" \"\n",
    "            current = current.get_next()\n",
    "        return result+\"\\n---\"\n",
    "        "
   ]
  },
  {
   "cell_type": "code",
   "execution_count": 75,
   "metadata": {},
   "outputs": [
    {
     "name": "stdout",
     "output_type": "stream",
     "text": [
      "True\n",
      "---\n",
      "Linked Stack Top to End : \n",
      "dog 4 \n",
      "---\n",
      "dog\n",
      "2\n",
      "---\n",
      "Linked Stack Top to End : \n",
      "dog 4 \n",
      "---\n",
      "dog\n",
      "1\n"
     ]
    }
   ],
   "source": [
    "s = Stack_linked()\n",
    "print(s.is_empty())\n",
    "s.push(4)\n",
    "s.push('dog')\n",
    "print(s)\n",
    "print(s.peek())\n",
    "print(s.size())\n",
    "print(s)\n",
    "print(s.pop())\n",
    "print(s.size())"
   ]
  },
  {
   "cell_type": "code",
   "execution_count": 76,
   "metadata": {
    "collapsed": true
   },
   "outputs": [],
   "source": [
    "from timeit import Timer"
   ]
  },
  {
   "cell_type": "code",
   "execution_count": 80,
   "metadata": {},
   "outputs": [
    {
     "name": "stdout",
     "output_type": "stream",
     "text": [
      "Push List O(1) :  2.5306295\n",
      "Push Linked O(1) :  8.0410720\n",
      "Pop List O(1) :  2.4348554\n",
      "Pop Linked O(1) :  6.6391793\n"
     ]
    }
   ],
   "source": [
    "s1 = Stack_list()\n",
    "s2 = Stack_linked()\n",
    "def test_push_1():\n",
    "    for i in range(10000):\n",
    "        s1.push(i)\n",
    "def test_push_2():\n",
    "    for i in range(10000):\n",
    "        s2.push(i)\n",
    "\n",
    "def test_pop_1():\n",
    "    for i in range(10000):\n",
    "        s1.pop()\n",
    "\n",
    "def test_pop_2():\n",
    "    for i in range(10000):\n",
    "        s2.pop()\n",
    "        \n",
    "t1 = Timer(\"test_push_1()\",\"from __main__ import test_push_1\")\n",
    "print(\"Push List O(1) : %10.7f\"%(t1.timeit(number=1000)))\n",
    "\n",
    "t2 = Timer(\"test_push_2()\",\"from __main__ import test_push_2\")\n",
    "print(\"Push Linked O(1) : %10.7f\"%(t2.timeit(number=1000)))\n",
    "\n",
    "t3 = Timer(\"test_pop_1()\",\"from __main__ import test_pop_1\")\n",
    "print(\"Pop List O(1) : %10.7f\"%(t3.timeit(number=1000)))\n",
    "\n",
    "t4 = Timer(\"test_pop_2()\",\"from __main__ import test_pop_2\")\n",
    "print(\"Pop Linked O(1) : %10.7f\"%(t4.timeit(number=1000)))"
   ]
  },
  {
   "cell_type": "markdown",
   "metadata": {},
   "source": [
    "#### 5. Doubly Linked List implementation in Python\n",
    "In this implementation, each node has a reference\n",
    "to the next node (commonly called next) as well as a reference to the preceding node\n",
    "(commonly called back). The head reference also contains two references, one to the\n",
    "first node in the linked list and one to the last.\n",
    "\n",
    "* List()\n",
    "* add(item)\n",
    "* remove(item)\n",
    "* search(item)\n",
    "* is_empty()\n",
    "* size()\n",
    "* append(item)\n",
    "* index(item)\n",
    "* insert(pos, item)\n",
    "* pop()\n",
    "* pop(pos)"
   ]
  },
  {
   "cell_type": "code",
   "execution_count": null,
   "metadata": {},
   "outputs": [],
   "source": [
    "class node:\n",
    "    def __init__(self,init_data):\n",
    "        self.data = init_data\n",
    "        self.next = None\n",
    "        self.back = None\n",
    "    \n",
    "    def set_next(self,item):\n",
    "        self.next = item\n",
    "    \n",
    "    def get_next(self):\n",
    "        return self.next\n",
    "    \n",
    "    def set_back(self):\n",
    "        self.back = back\n",
    "    \n",
    "    def get_back(self):\n",
    "        return self.bacl\n",
    "    \n",
    "    def get_data(self):\n",
    "        return self.data\n",
    "\n",
    "class doubly_linked_list:\n",
    "    def __init__(self):\n",
    "        self.head = None\n",
    "        self.size = None\n",
    "        self.tail = None\n",
    "    \n",
    "    def add(self,item):\n",
    "        self.size += 1\n",
    "        temp = node(item)\n",
    "        if head == None:\n",
    "            head = temp\n",
    "            tail = temp\n",
    "        else:\n",
    "            temp.set_next() = self.head\n",
    "            temp.set_back() = self.tail\n",
    "            self.head = temp\n",
    "        "
   ]
  },
  {
   "cell_type": "code",
   "execution_count": null,
   "metadata": {
    "collapsed": true
   },
   "outputs": [],
   "source": []
  }
 ],
 "metadata": {
  "kernelspec": {
   "display_name": "Python 3",
   "language": "python",
   "name": "python3"
  },
  "language_info": {
   "codemirror_mode": {
    "name": "ipython",
    "version": 3
   },
   "file_extension": ".py",
   "mimetype": "text/x-python",
   "name": "python",
   "nbconvert_exporter": "python",
   "pygments_lexer": "ipython3",
   "version": "3.6.3"
  }
 },
 "nbformat": 4,
 "nbformat_minor": 2
}

{
 "cells": [
  {
   "cell_type": "markdown",
   "metadata": {},
   "source": [
    "## 5.2 Search"
   ]
  },
  {
   "cell_type": "code",
   "execution_count": 1,
   "metadata": {},
   "outputs": [
    {
     "data": {
      "text/plain": [
       "True"
      ]
     },
     "execution_count": 1,
     "metadata": {},
     "output_type": "execute_result"
    }
   ],
   "source": [
    "15 in [1,2,315,15]"
   ]
  },
  {
   "cell_type": "code",
   "execution_count": 8,
   "metadata": {},
   "outputs": [
    {
     "name": "stdout",
     "output_type": "stream",
     "text": [
      "100000\t 0.0020270\n",
      "1100000\t 0.0000000\n",
      "2100000\t 0.0271101\n",
      "3100000\t 0.0312853\n",
      "4100000\t 0.0468800\n",
      "5100000\t 0.0625064\n",
      "6100000\t 0.0625379\n",
      "7100000\t 0.0880005\n",
      "8100000\t 0.0796227\n",
      "9100000\t 0.1107950\n"
     ]
    }
   ],
   "source": [
    "import time\n",
    "max = range(100,100000,500)\n",
    "num_list = []\n",
    "for i in range(100000,10000000,1000000):\n",
    "    num_list = list(range(i))\n",
    "    start = time.time()\n",
    "    i-1 in num_list\n",
    "    end = time.time()\n",
    "    print(\"%d\\t%10.7f\"%(i,end-start))\n",
    "    "
   ]
  },
  {
   "cell_type": "markdown",
   "metadata": {},
   "source": [
    "### 5.2.1 The Sequential Search"
   ]
  },
  {
   "cell_type": "code",
   "execution_count": 15,
   "metadata": {
    "collapsed": true
   },
   "outputs": [],
   "source": [
    "def sequential_search(a_list, item):\n",
    "    pos = 0\n",
    "    found = False\n",
    "    while pos < len(a_list) and not found:\n",
    "        if a_list[pos] == item:\n",
    "            found = True\n",
    "        else:\n",
    "            pos += 1\n",
    "    return found\n",
    "\n",
    "def ordered_sequential_search(a_list,item):\n",
    "    pos = 0\n",
    "    found = False\n",
    "    stop = False\n",
    "    while pos < len(a_list) and not found and not stop:\n",
    "        if a_list[pos] == item:\n",
    "            found = True\n",
    "        else:\n",
    "            if a_list[pos] > item:\n",
    "                stop = True\n",
    "            else:\n",
    "                pos+=1\n",
    "    return found\n",
    "\n",
    "        "
   ]
  },
  {
   "cell_type": "code",
   "execution_count": 16,
   "metadata": {},
   "outputs": [
    {
     "name": "stdout",
     "output_type": "stream",
     "text": [
      "[31, 38, 39, 5, 2, 27, 8, 27, 39, 12]\n",
      "[0, 1, 2, 3, 4, 5, 6, 7, 8, 9]\n"
     ]
    }
   ],
   "source": [
    "import random\n",
    "test_list = []\n",
    "test_list_ordered = []\n",
    "for i in range(10):\n",
    "    test_list.append(random.randrange(1,40))\n",
    "    test_list_ordered.append(i)\n",
    "print(test_list)\n",
    "print(test_list_ordered)"
   ]
  },
  {
   "cell_type": "code",
   "execution_count": 18,
   "metadata": {},
   "outputs": [
    {
     "name": "stdout",
     "output_type": "stream",
     "text": [
      "False\n",
      "True\n"
     ]
    }
   ],
   "source": [
    "print(sequential_search(test_list,22))\n",
    "print(ordered_sequential_search(test_list_ordered,7))"
   ]
  },
  {
   "cell_type": "markdown",
   "metadata": {},
   "source": [
    "### 5.2.2 Binary Search"
   ]
  },
  {
   "cell_type": "code",
   "execution_count": 21,
   "metadata": {
    "collapsed": true
   },
   "outputs": [],
   "source": [
    "def binary_search(a_list,item):\n",
    "    first = 0\n",
    "    last = len(a_list)-1\n",
    "    found = False\n",
    "    \n",
    "    while first <= last and not found:\n",
    "        mid = (first+last) // 2\n",
    "        if a_list[mid] == item:\n",
    "            found = True\n",
    "        elif item < a_list[mid] :\n",
    "            last = mid -1\n",
    "        else:\n",
    "            first = mid+1\n",
    "    return found\n",
    "\n",
    "def recursive_binary_search(a_list, item):\n",
    "    if len(a_list) == 0:\n",
    "        return False\n",
    "    else:\n",
    "        mid = len(a_list) // 2\n",
    "    if a_list[mid] == item:\n",
    "        return True\n",
    "    else:\n",
    "        if a_list[mid] > item:\n",
    "            return recursive_binary_search(a_list[:mid],item)\n",
    "        else:\n",
    "            return recursive_binary_search(a_list[mid+1:],item)\n",
    "        "
   ]
  },
  {
   "cell_type": "code",
   "execution_count": 23,
   "metadata": {},
   "outputs": [
    {
     "data": {
      "text/plain": [
       "True"
      ]
     },
     "execution_count": 23,
     "metadata": {},
     "output_type": "execute_result"
    }
   ],
   "source": [
    "test_list_ordered = list(range(10))\n",
    "binary_search(test_list_ordered,8)\n",
    "recursive_binary_search(test_list_ordered, 8)"
   ]
  },
  {
   "cell_type": "code",
   "execution_count": 24,
   "metadata": {
    "collapsed": true
   },
   "outputs": [],
   "source": [
    "from timeit import Timer"
   ]
  },
  {
   "cell_type": "code",
   "execution_count": 29,
   "metadata": {},
   "outputs": [
    {
     "name": "stdout",
     "output_type": "stream",
     "text": [
      "Binary Search :  0.0040342 \n",
      "Recursive BS :  0.3719869\n",
      "Sequential : 15.3553292\n"
     ]
    }
   ],
   "source": [
    "test_list = list(range(100000))\n",
    "t1 = Timer(\"binary_search(test_list,99999)\",\"from __main__ import binary_search,test_list\")\n",
    "t2 = Timer(\"recursive_binary_search(test_list,99999)\",\"from __main__ import recursive_binary_search,test_list\")\n",
    "t3 = Timer(\"sequential_search(test_list,99999)\",\"from __main__ import sequential_search,test_list\")\n",
    "\n",
    "print(\"Binary Search : %10.7f \\nRecursive BS : %10.7f\\nSequential : %10.7f\"%(t1.timeit(number=1000),t2.timeit(number=1000), t3.timeit(number=1000)))"
   ]
  }
 ],
 "metadata": {
  "kernelspec": {
   "display_name": "Python 3",
   "language": "python",
   "name": "python3"
  },
  "language_info": {
   "codemirror_mode": {
    "name": "ipython",
    "version": 3
   },
   "file_extension": ".py",
   "mimetype": "text/x-python",
   "name": "python",
   "nbconvert_exporter": "python",
   "pygments_lexer": "ipython3",
   "version": "3.6.3"
  }
 },
 "nbformat": 4,
 "nbformat_minor": 2
}

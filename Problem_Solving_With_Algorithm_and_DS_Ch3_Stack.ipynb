{
 "cells": [
  {
   "cell_type": "markdown",
   "metadata": {},
   "source": [
    "## 3.4 Stack\n",
    "- Stack()\n",
    "- push()\n",
    "- pop()\n",
    "- peek()\n",
    "- size()\n",
    "- is_empty()"
   ]
  },
  {
   "cell_type": "code",
   "execution_count": 12,
   "metadata": {
    "collapsed": true
   },
   "outputs": [],
   "source": [
    "# Completed implementation of a Stack ADT\n",
    "class Stack:\n",
    "    def __init__(self):\n",
    "        self.items = []\n",
    "    \n",
    "    def is_empty(self):\n",
    "        return self.items == []\n",
    "    \n",
    "    def push(self, item):\n",
    "        self.items.append(item)\n",
    "    \n",
    "    def pop(self):\n",
    "        return self.items.pop()\n",
    "    \n",
    "    def peek(self):\n",
    "        return self.items[len(self.items)-1]\n",
    "    \n",
    "    def size(self):\n",
    "        return len(self.items)\n",
    "    \n",
    "    def __str__(self):\n",
    "        result = \"Stack End to Top : \\n\"\n",
    "        for item in self.items:\n",
    "            result += str(item) + \" \"\n",
    "        return result"
   ]
  },
  {
   "cell_type": "code",
   "execution_count": 13,
   "metadata": {},
   "outputs": [
    {
     "name": "stdout",
     "output_type": "stream",
     "text": [
      "True\n",
      "dog\n",
      "2\n",
      "Stack End to Top : \n",
      "4 dog \n"
     ]
    }
   ],
   "source": [
    "s = Stack()\n",
    "print(s.is_empty())\n",
    "s.push(4)\n",
    "s.push('dog')\n",
    "print(s.peek())\n",
    "print(s.size())\n",
    "print(s)"
   ]
  },
  {
   "cell_type": "markdown",
   "metadata": {},
   "source": [
    "### 3.4.3 Simple Balance Parentheses"
   ]
  },
  {
   "cell_type": "code",
   "execution_count": 60,
   "metadata": {
    "collapsed": true
   },
   "outputs": [],
   "source": [
    "# Check whether the parentheses are balance or not\n",
    "def par_checker(test_str):\n",
    "    s = Stack()\n",
    "    result = True\n",
    "    for letter in test_str:\n",
    "        if letter == \"(\":\n",
    "            s.push(letter)\n",
    "        else:\n",
    "            # Easy to Forget this decision\n",
    "            if s.size() == 0:\n",
    "                return False\n",
    "            else:\n",
    "                s.pop()\n",
    "    \n",
    "    if s.size() == 0:\n",
    "        result = True\n",
    "    else:\n",
    "        result = False\n",
    "\n",
    "    return result"
   ]
  },
  {
   "cell_type": "code",
   "execution_count": 63,
   "metadata": {},
   "outputs": [
    {
     "name": "stdout",
     "output_type": "stream",
     "text": [
      "False\n",
      "False\n",
      "True\n"
     ]
    }
   ],
   "source": [
    "test1 = \"((())))\"\n",
    "test2 = \"((()\"\n",
    "test3 = \"((((()))))\"\n",
    "print(par_checker(test1))\n",
    "print(par_checker(test2))\n",
    "print(par_checker(test3))"
   ]
  },
  {
   "cell_type": "markdown",
   "metadata": {},
   "source": [
    "### 3.4.4 Balanced Symbols - A General Case\n",
    "Banalced : {[()]} \n",
    "\n",
    "Not : {[)]"
   ]
  },
  {
   "cell_type": "code",
   "execution_count": 85,
   "metadata": {},
   "outputs": [],
   "source": [
    "# Check whether the parentheses are balance or not\n",
    "def par_checker_gen(test_str):\n",
    "    s = Stack()\n",
    "    result = True\n",
    "    for letter in test_str:\n",
    "        if letter in \"{[(\":\n",
    "            s.push(letter)\n",
    "        else:\n",
    "            if s.size() == 0 :\n",
    "                return False\n",
    "            elif matches(s.peek(),letter):\n",
    "                s.pop()\n",
    "                \n",
    "            \n",
    "    \n",
    "    if s.size() == 0:\n",
    "        result = True\n",
    "    else:\n",
    "        result = False\n",
    "\n",
    "    return result\n",
    "    #return str(s)\n",
    "\n",
    "def matches(str1, str2):\n",
    "    open = \"{[(\"\n",
    "    close = \"}])\"\n",
    "    return open.index(str1) == close.index(str2)"
   ]
  },
  {
   "cell_type": "code",
   "execution_count": 86,
   "metadata": {},
   "outputs": [
    {
     "name": "stdout",
     "output_type": "stream",
     "text": [
      "True\n",
      "False\n",
      "False\n"
     ]
    }
   ],
   "source": [
    "test1 = \"{[()]}\" # True\n",
    "test2 = \"{[([)]}\" # False\n",
    "test3 = \"{[()]}]]]\" # False\n",
    "print(par_checker_gen(test1))\n",
    "print(par_checker_gen(test2))\n",
    "print(par_checker_gen(test3))"
   ]
  },
  {
   "cell_type": "markdown",
   "metadata": {},
   "source": [
    "### 3.4.5 Converting Decimal Number to Binary Number"
   ]
  },
  {
   "cell_type": "code",
   "execution_count": 87,
   "metadata": {
    "collapsed": true
   },
   "outputs": [],
   "source": [
    "def divide_by_2(dec_num):\n",
    "    rem_stack = Stack()\n",
    "    while dec_num > 0:\n",
    "        rem = dec_num % 2\n",
    "        rem_stack.push(rem)\n",
    "        dec_num = dec_num // 2\n",
    "    \n",
    "    bin_string = \"\"\n",
    "    while not rem_stack.is_empty():\n",
    "        bin_string += str(rem_stack.pop())\n",
    "    return bin_string"
   ]
  },
  {
   "cell_type": "code",
   "execution_count": 89,
   "metadata": {},
   "outputs": [
    {
     "name": "stdout",
     "output_type": "stream",
     "text": [
      "1000001\n"
     ]
    }
   ],
   "source": [
    "print(divide_by_2(65))"
   ]
  },
  {
   "cell_type": "markdown",
   "metadata": {},
   "source": [
    "Base Converter"
   ]
  },
  {
   "cell_type": "code",
   "execution_count": 91,
   "metadata": {
    "collapsed": true
   },
   "outputs": [],
   "source": [
    "def base_converter(dec_num, base):\n",
    "    digits = \"0123456789ABCDEF\"\n",
    "    rem_stack = Stack()\n",
    "    while dec_num > 0:\n",
    "        rem = dec_num % base\n",
    "        rem_stack.push(rem)\n",
    "        dec_num //= 2\n",
    "    \n",
    "    new_string = \"\"\n",
    "    while not rem_stack.is_empty():\n",
    "        new_string += digits[rem_stack.pop()]\n",
    "    \n",
    "    return new_string"
   ]
  },
  {
   "cell_type": "code",
   "execution_count": 94,
   "metadata": {},
   "outputs": [
    {
     "name": "stdout",
     "output_type": "stream",
     "text": [
      "125B6D\n"
     ]
    }
   ],
   "source": [
    "print(base_converter(45,16))"
   ]
  },
  {
   "cell_type": "markdown",
   "metadata": {},
   "source": [
    "### 3.4.7 Infix, Prefix, Postfix Expression\n",
    "\n",
    "* Infix : 3 + 4 ; (a + b)\\*c\n",
    "* Prefix : + 3 4 ; * + a b c\n",
    "* Postfix : 3 4 + ; a b + c *"
   ]
  },
  {
   "cell_type": "code",
   "execution_count": 95,
   "metadata": {
    "collapsed": true
   },
   "outputs": [],
   "source": [
    "def infix_to_postfix(infix_expr):\n",
    "    prec = {\"(\":1,\"-\":2,\"+\":2,\"/\":3,\"*\":3}\n",
    "    op_stack = Stack()\n",
    "    postfix_list = []\n",
    "    token_list = infix_expr.split()\n",
    "    \n",
    "    for token in token_list:\n",
    "        if token in \"ABCDEFGHIJKLMNOPQRSTUVWXYZ\" or token in \"0123456789\":\n",
    "            postfix_list.append(token)\n",
    "        elif token == \"(\":\n",
    "            op_stack.push(token)\n",
    "        elif token == \")\":\n",
    "            top_token = op_stack.pop()\n",
    "            while top_token != \"(\":\n",
    "                postfix_list.append(top_token)\n",
    "                top_token = op_stack.pop()\n",
    "        else:\n",
    "            while (not op_stack.is_empty()) and (prec[op_stack.peek()] >= prec[token]):\n",
    "                postfix_list.append(op_stack.pop())\n",
    "            op_stack.push(token)\n",
    "    while not op_stack.is_empty():\n",
    "        postfix_list.append(op_stack.pop())\n",
    "    return \" \".join(postfix_list)"
   ]
  },
  {
   "cell_type": "code",
   "execution_count": 97,
   "metadata": {},
   "outputs": [
    {
     "name": "stdout",
     "output_type": "stream",
     "text": [
      "A B * C D * +\n"
     ]
    }
   ],
   "source": [
    "print(infix_to_postfix(\"A * B + C * D\"))"
   ]
  },
  {
   "cell_type": "markdown",
   "metadata": {},
   "source": [
    "### 3.4.10 Postfix Evaluation"
   ]
  },
  {
   "cell_type": "code",
   "execution_count": 98,
   "metadata": {
    "collapsed": true
   },
   "outputs": [],
   "source": [
    "def postfix_eval(postfix_expr):\n",
    "    operand_stack = Stack()\n",
    "    token_list = postfix_expr.split()\n",
    "    for token in token_list:\n",
    "        if token in \"0123456789\":\n",
    "            operand_stack.push(int(token))\n",
    "        else:\n",
    "            op2 = operand_stack.pop()\n",
    "            op1 = operand_stack.pop()\n",
    "            result = do_math(token,op1,op2)\n",
    "            operand_stack.push(result)\n",
    "    return operand_stack.pop()\n",
    "\n",
    "def do_math(op, op1, op2):\n",
    "    if op == \"*\":\n",
    "        return op1 * op2\n",
    "    elif op == \"/\":\n",
    "        return op1 / op2\n",
    "    elif op == \"+\":\n",
    "        return op1 + op2\n",
    "    else :\n",
    "        return op1 - op2"
   ]
  },
  {
   "cell_type": "code",
   "execution_count": 99,
   "metadata": {},
   "outputs": [
    {
     "name": "stdout",
     "output_type": "stream",
     "text": [
      "3.0\n"
     ]
    }
   ],
   "source": [
    "print(postfix_eval(\"7 8 + 3 2 + /\"))"
   ]
  }
 ],
 "metadata": {
  "kernelspec": {
   "display_name": "Python 3",
   "language": "python",
   "name": "python3"
  },
  "language_info": {
   "codemirror_mode": {
    "name": "ipython",
    "version": 3
   },
   "file_extension": ".py",
   "mimetype": "text/x-python",
   "name": "python",
   "nbconvert_exporter": "python",
   "pygments_lexer": "ipython3",
   "version": "3.6.3"
  }
 },
 "nbformat": 4,
 "nbformat_minor": 2
}

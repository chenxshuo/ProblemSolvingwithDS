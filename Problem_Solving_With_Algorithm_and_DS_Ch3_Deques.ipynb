{
 "cells": [
  {
   "cell_type": "markdown",
   "metadata": {},
   "source": [
    "## 3.6 Deuqe\n",
    "Double ended queue\n",
    "* Deque()\n",
    "* add_front()\n",
    "* add_rear()\n",
    "* remove_front()\n",
    "* remove_rear()\n",
    "* size()\n",
    "* is_empty()"
   ]
  },
  {
   "cell_type": "code",
   "execution_count": 20,
   "metadata": {
    "collapsed": true
   },
   "outputs": [],
   "source": [
    "class Deque:\n",
    "    def __init__(self):\n",
    "        self.items = []\n",
    "    \n",
    "    def is_empty(self):\n",
    "        return self.items == []\n",
    "    \n",
    "    def size(self):\n",
    "        return len(self.items)\n",
    "    \n",
    "    def add_rear(self, item):\n",
    "        self.items.insert(0, item)\n",
    "    \n",
    "    def add_front(self, item):\n",
    "        self.items.append(item)\n",
    "    \n",
    "    def remove_rear(self):\n",
    "        return self.items.pop(0)\n",
    "    \n",
    "    def remove_front(self):\n",
    "        return self.items.pop()\n",
    "    \n",
    "    def __str__(self):\n",
    "        result = \"Items in Deque: \\n\"\n",
    "        for item in self.items:\n",
    "            result += str(item)+\" \"\n",
    "        return result"
   ]
  },
  {
   "cell_type": "markdown",
   "metadata": {},
   "source": [
    "### 3.6.4 Palindrome Checker\n",
    "Palindrome: radar, madam..\n"
   ]
  },
  {
   "cell_type": "code",
   "execution_count": 25,
   "metadata": {
    "collapsed": true
   },
   "outputs": [],
   "source": [
    "def pal_checker(str1):\n",
    "    str_deque = Deque()\n",
    "    str_list = list(str1)\n",
    "    for item in str_list:\n",
    "        str_deque.add_front(item)\n",
    "    #print(str_deque)\n",
    "    while str_deque.size() > 1:\n",
    "        if not str_deque.remove_rear() == str_deque.remove_front():\n",
    "            return False\n",
    "    return True"
   ]
  },
  {
   "cell_type": "code",
   "execution_count": 27,
   "metadata": {},
   "outputs": [
    {
     "name": "stdout",
     "output_type": "stream",
     "text": [
      "True\n",
      "False\n",
      "True\n"
     ]
    }
   ],
   "source": [
    "print(pal_checker(\"mam\")) # True\n",
    "print(pal_checker(\"abd\")) # False\n",
    "print(pal_checker(\"raddar\")) # True"
   ]
  },
  {
   "cell_type": "code",
   "execution_count": null,
   "metadata": {
    "collapsed": true
   },
   "outputs": [],
   "source": []
  }
 ],
 "metadata": {
  "kernelspec": {
   "display_name": "Python 3",
   "language": "python",
   "name": "python3"
  },
  "language_info": {
   "codemirror_mode": {
    "name": "ipython",
    "version": 3
   },
   "file_extension": ".py",
   "mimetype": "text/x-python",
   "name": "python",
   "nbconvert_exporter": "python",
   "pygments_lexer": "ipython3",
   "version": "3.6.3"
  }
 },
 "nbformat": 4,
 "nbformat_minor": 2
}
